{
 "cells": [
  {
   "cell_type": "markdown",
   "id": "d21581bf-f840-4d5d-8432-911cbb09687f",
   "metadata": {},
   "source": [
    "### Challenge - Attrapez-les tous\n",
    "\n",
    "Challenge dans le cadre de la formation Data Analyst de la Wild Code School\n",
    "\n",
    "![ ](https://storage.googleapis.com/quest_editor_uploads/ziGVpdPyvm1HMWm1ILdbCXW5tH8Hlg68.jpg)\n",
    "\n",
    "\n",
    "\n",
    "Un champion du monde Pokémon (oui, cela existe) a entendu parler de tes connaissances en Machine Learning et demande ton expertise.\n",
    "\n",
    "Le champion a l'habitude d'utiliser les Pokemon suivants : [Mewtwo](https://bulbapedia.bulbagarden.net/wiki/Mewtwo_(Pokémon)), [Lugia](https://bulbapedia.bulbagarden.net/wiki/Lugia_(Pokémon)), [Rayquaza](https://bulbapedia.bulbagarden.net/wiki/Rayquaza_(Pokémon)), [Giratina](https://bulbapedia.bulbagarden.net/wiki/Giratina_(Pokémon)), [Dialga](https://bulbapedia.bulbagarden.net/wiki/Dialga_(Pokémon)), et [Palkia](https://bulbapedia.bulbagarden.net/wiki/Palkia_(Pokémon)). Mais pour sa prochaine compétition, il est interdit d'utiliser un Pokémon légendaire. Un pokemon est soit légendaire, soit non-légendaire. La dernière colonne du dataset indique True ou False suivant les cas.\n",
    "Le champion devra donc remplacer ses Pokemon légendaires préférés par d'autres Pokémons non-légendaires, avec des caractéristiques similaires. C'est là que tu interviens !\n",
    "\n",
    "Pour l'aider, suis les étapes suivantes :\n",
    "\n",
    "1. Importe le [dataset pokemon.csv](https://raw.githubusercontent.com/murpi/wilddata/master/pokemon.csv). Chaque ligne représente un pokemon, avec ses différentes caractéristiques (attaque, défense, vitesse, etc...), ainsi que la colonne \"légendaire\".\n",
    "2. Entraine l'algorithme NN en utilisant l'ensemble des colonnes numériques en variables explicatives `X`.\n",
    "\n",
    "```\n",
    "Pas besoin de traintestsplit dans ce cas précis : en effet, sinon tu chercheras les voisins sur un sous-échantillon. Alors qu'il y a peut-être des voisins plus proche.Pas besoin de predict ou de score non plus : nous calculons uniquement des distances.\n",
    "```\n",
    "\n",
    "1. Utilise la fonction `kneighbors()` pour trouver le ou les Pokémons le(s) plus proche(s) de chacun des Pokémon légendaires que le champion a l'habitude d'utiliser.\n",
    "2. Fais des recommandations de Pokémon à utiliser par le champion pour sa prochaine compétition, en lui priorisant par distance. Evidemment, ta recommandation ne doit pas indiquer un autre pokemon légendaire, même si ce dernier est très proche..."
   ]
  },
  {
   "cell_type": "code",
   "execution_count": 1,
   "id": "66b17a31-34d6-4d77-a1d7-490bdf7b5d17",
   "metadata": {},
   "outputs": [],
   "source": [
    "#Importation du nécessaire :)\n",
    "import pandas as pd\n",
    "from sklearn.neighbors import NearestNeighbors"
   ]
  },
  {
   "cell_type": "code",
   "execution_count": 2,
   "id": "b5085854-1ee2-4879-882e-32b464187765",
   "metadata": {},
   "outputs": [],
   "source": [
    "df_pokemon = pd.read_csv('https://raw.githubusercontent.com/murpi/wilddata/master/pokemon.csv')"
   ]
  },
  {
   "cell_type": "code",
   "execution_count": 76,
   "id": "b617551a-013a-4318-8be1-20bade9e995d",
   "metadata": {},
   "outputs": [],
   "source": [
    "df_pokemon.to_csv('df_pokemon.csv')"
   ]
  },
  {
   "cell_type": "markdown",
   "id": "ed9bfd9e-83f0-47da-a42a-016ef62687b9",
   "metadata": {},
   "source": [
    "Visualisation du DF pour comprendre ce sur quoi nous travaillons "
   ]
  },
  {
   "cell_type": "code",
   "execution_count": 128,
   "id": "66b20b98-de2d-4113-ac67-ba8146f10cd5",
   "metadata": {},
   "outputs": [
    {
     "data": {
      "text/html": [
       "<div>\n",
       "<style scoped>\n",
       "    .dataframe tbody tr th:only-of-type {\n",
       "        vertical-align: middle;\n",
       "    }\n",
       "\n",
       "    .dataframe tbody tr th {\n",
       "        vertical-align: top;\n",
       "    }\n",
       "\n",
       "    .dataframe thead th {\n",
       "        text-align: right;\n",
       "    }\n",
       "</style>\n",
       "<table border=\"1\" class=\"dataframe\">\n",
       "  <thead>\n",
       "    <tr style=\"text-align: right;\">\n",
       "      <th></th>\n",
       "      <th>#</th>\n",
       "      <th>Name</th>\n",
       "      <th>Type 1</th>\n",
       "      <th>Type 2</th>\n",
       "      <th>HP</th>\n",
       "      <th>Attack</th>\n",
       "      <th>Defense</th>\n",
       "      <th>Sp. Atk</th>\n",
       "      <th>Sp. Def</th>\n",
       "      <th>Speed</th>\n",
       "      <th>Generation</th>\n",
       "      <th>Legendary</th>\n",
       "    </tr>\n",
       "  </thead>\n",
       "  <tbody>\n",
       "    <tr>\n",
       "      <th>0</th>\n",
       "      <td>1</td>\n",
       "      <td>Bulbasaur</td>\n",
       "      <td>Grass</td>\n",
       "      <td>Poison</td>\n",
       "      <td>45</td>\n",
       "      <td>49</td>\n",
       "      <td>49</td>\n",
       "      <td>65</td>\n",
       "      <td>65</td>\n",
       "      <td>45</td>\n",
       "      <td>1</td>\n",
       "      <td>False</td>\n",
       "    </tr>\n",
       "    <tr>\n",
       "      <th>1</th>\n",
       "      <td>2</td>\n",
       "      <td>Ivysaur</td>\n",
       "      <td>Grass</td>\n",
       "      <td>Poison</td>\n",
       "      <td>60</td>\n",
       "      <td>62</td>\n",
       "      <td>63</td>\n",
       "      <td>80</td>\n",
       "      <td>80</td>\n",
       "      <td>60</td>\n",
       "      <td>1</td>\n",
       "      <td>False</td>\n",
       "    </tr>\n",
       "    <tr>\n",
       "      <th>2</th>\n",
       "      <td>3</td>\n",
       "      <td>Venusaur</td>\n",
       "      <td>Grass</td>\n",
       "      <td>Poison</td>\n",
       "      <td>80</td>\n",
       "      <td>82</td>\n",
       "      <td>83</td>\n",
       "      <td>100</td>\n",
       "      <td>100</td>\n",
       "      <td>80</td>\n",
       "      <td>1</td>\n",
       "      <td>False</td>\n",
       "    </tr>\n",
       "    <tr>\n",
       "      <th>3</th>\n",
       "      <td>4</td>\n",
       "      <td>Mega Venusaur</td>\n",
       "      <td>Grass</td>\n",
       "      <td>Poison</td>\n",
       "      <td>80</td>\n",
       "      <td>100</td>\n",
       "      <td>123</td>\n",
       "      <td>122</td>\n",
       "      <td>120</td>\n",
       "      <td>80</td>\n",
       "      <td>1</td>\n",
       "      <td>False</td>\n",
       "    </tr>\n",
       "    <tr>\n",
       "      <th>4</th>\n",
       "      <td>5</td>\n",
       "      <td>Charmander</td>\n",
       "      <td>Fire</td>\n",
       "      <td>NaN</td>\n",
       "      <td>39</td>\n",
       "      <td>52</td>\n",
       "      <td>43</td>\n",
       "      <td>60</td>\n",
       "      <td>50</td>\n",
       "      <td>65</td>\n",
       "      <td>1</td>\n",
       "      <td>False</td>\n",
       "    </tr>\n",
       "  </tbody>\n",
       "</table>\n",
       "</div>"
      ],
      "text/plain": [
       "   #           Name Type 1  Type 2  HP  Attack  Defense  Sp. Atk  Sp. Def  \\\n",
       "0  1      Bulbasaur  Grass  Poison  45      49       49       65       65   \n",
       "1  2        Ivysaur  Grass  Poison  60      62       63       80       80   \n",
       "2  3       Venusaur  Grass  Poison  80      82       83      100      100   \n",
       "3  4  Mega Venusaur  Grass  Poison  80     100      123      122      120   \n",
       "4  5     Charmander   Fire     NaN  39      52       43       60       50   \n",
       "\n",
       "   Speed  Generation  Legendary  \n",
       "0     45           1      False  \n",
       "1     60           1      False  \n",
       "2     80           1      False  \n",
       "3     80           1      False  \n",
       "4     65           1      False  "
      ]
     },
     "execution_count": 128,
     "metadata": {},
     "output_type": "execute_result"
    }
   ],
   "source": [
    "df_pokemon.head()"
   ]
  },
  {
   "cell_type": "markdown",
   "id": "eb13a3b1-7cab-41de-8568-b3b8a7171556",
   "metadata": {},
   "source": [
    "Recherche de valeurs NaN"
   ]
  },
  {
   "cell_type": "code",
   "execution_count": 4,
   "id": "5cca1500-d120-424f-8c82-ed345891c941",
   "metadata": {},
   "outputs": [
    {
     "data": {
      "text/plain": [
       "#             False\n",
       "Name           True\n",
       "Type 1        False\n",
       "Type 2         True\n",
       "HP            False\n",
       "Attack        False\n",
       "Defense       False\n",
       "Sp. Atk       False\n",
       "Sp. Def       False\n",
       "Speed         False\n",
       "Generation    False\n",
       "Legendary     False\n",
       "dtype: bool"
      ]
     },
     "execution_count": 4,
     "metadata": {},
     "output_type": "execute_result"
    }
   ],
   "source": [
    "df_pokemon.isna().any()"
   ]
  },
  {
   "cell_type": "code",
   "execution_count": 15,
   "id": "64246c9c-99c3-445d-813d-1f80e748282d",
   "metadata": {},
   "outputs": [
    {
     "data": {
      "text/plain": [
       "#               0\n",
       "Name            1\n",
       "Type 1          0\n",
       "Type 2        386\n",
       "HP              0\n",
       "Attack          0\n",
       "Defense         0\n",
       "Sp. Atk         0\n",
       "Sp. Def         0\n",
       "Speed           0\n",
       "Generation      0\n",
       "Legendary       0\n",
       "dtype: int64"
      ]
     },
     "execution_count": 15,
     "metadata": {},
     "output_type": "execute_result"
    }
   ],
   "source": [
    "df_pokemon.isna().sum()"
   ]
  },
  {
   "cell_type": "code",
   "execution_count": 18,
   "id": "0ab1ed7b-2aa6-4794-9a97-74e844623d4e",
   "metadata": {},
   "outputs": [],
   "source": [
    "#Je supprime le seul Pokemon qui n'a pas de nom. \n",
    "df_pokemon.dropna(subset = [\"Name\"], inplace=True)"
   ]
  },
  {
   "cell_type": "code",
   "execution_count": 19,
   "id": "63a853c1-567f-4b62-a9c4-6527b1b1a6bc",
   "metadata": {},
   "outputs": [
    {
     "data": {
      "text/plain": [
       "#               0\n",
       "Name            0\n",
       "Type 1          0\n",
       "Type 2        385\n",
       "HP              0\n",
       "Attack          0\n",
       "Defense         0\n",
       "Sp. Atk         0\n",
       "Sp. Def         0\n",
       "Speed           0\n",
       "Generation      0\n",
       "Legendary       0\n",
       "dtype: int64"
      ]
     },
     "execution_count": 19,
     "metadata": {},
     "output_type": "execute_result"
    }
   ],
   "source": [
    "#Dans ce cas particulier, je ne modifie pas la colonne Type2 car je n'en ai pas besoin. \n",
    "df_pokemon.isna().sum()"
   ]
  },
  {
   "cell_type": "markdown",
   "id": "1a83d4d1-1cfd-493b-b861-cfda48797ec7",
   "metadata": {},
   "source": [
    "## Maintenant je peux commencer avec le ML"
   ]
  },
  {
   "cell_type": "code",
   "execution_count": 125,
   "id": "b9ffa213-414f-4156-8b37-2ce089d663f3",
   "metadata": {},
   "outputs": [],
   "source": [
    "#Je sélectionne les colonnes que j'utiliserai pour le modèle NearestNeighbors\n",
    "X = df_pokemon[['HP','Attack','Defense','Sp. Atk','Sp. Def','Speed','Generation']]\n",
    "distanceKNN = NearestNeighbors(n_neighbors=10).fit(X)"
   ]
  },
  {
   "cell_type": "code",
   "execution_count": 130,
   "id": "13c28199-91c7-46e3-aa9a-95919529cc5c",
   "metadata": {},
   "outputs": [
    {
     "data": {
      "text/html": [
       "<div>\n",
       "<style scoped>\n",
       "    .dataframe tbody tr th:only-of-type {\n",
       "        vertical-align: middle;\n",
       "    }\n",
       "\n",
       "    .dataframe tbody tr th {\n",
       "        vertical-align: top;\n",
       "    }\n",
       "\n",
       "    .dataframe thead th {\n",
       "        text-align: right;\n",
       "    }\n",
       "</style>\n",
       "<table border=\"1\" class=\"dataframe\">\n",
       "  <thead>\n",
       "    <tr style=\"text-align: right;\">\n",
       "      <th></th>\n",
       "      <th>#</th>\n",
       "      <th>Name</th>\n",
       "      <th>Type 1</th>\n",
       "      <th>Type 2</th>\n",
       "      <th>HP</th>\n",
       "      <th>Attack</th>\n",
       "      <th>Defense</th>\n",
       "      <th>Sp. Atk</th>\n",
       "      <th>Sp. Def</th>\n",
       "      <th>Speed</th>\n",
       "      <th>Generation</th>\n",
       "      <th>Legendary</th>\n",
       "    </tr>\n",
       "  </thead>\n",
       "  <tbody>\n",
       "    <tr>\n",
       "      <th>162</th>\n",
       "      <td>163</td>\n",
       "      <td>Mewtwo</td>\n",
       "      <td>Psychic</td>\n",
       "      <td>NaN</td>\n",
       "      <td>106</td>\n",
       "      <td>110</td>\n",
       "      <td>90</td>\n",
       "      <td>154</td>\n",
       "      <td>90</td>\n",
       "      <td>130</td>\n",
       "      <td>1</td>\n",
       "      <td>True</td>\n",
       "    </tr>\n",
       "  </tbody>\n",
       "</table>\n",
       "</div>"
      ],
      "text/plain": [
       "       #    Name   Type 1 Type 2   HP  Attack  Defense  Sp. Atk  Sp. Def  \\\n",
       "162  163  Mewtwo  Psychic    NaN  106     110       90      154       90   \n",
       "\n",
       "     Speed  Generation  Legendary  \n",
       "162    130           1       True  "
      ]
     },
     "execution_count": 130,
     "metadata": {},
     "output_type": "execute_result"
    }
   ],
   "source": [
    "df_pokemon[df_pokemon['Name'] == 'Mewtwo']"
   ]
  },
  {
   "cell_type": "code",
   "execution_count": 89,
   "id": "1135f148-2286-4f20-b057-fccf893f0d79",
   "metadata": {},
   "outputs": [
    {
     "data": {
      "text/plain": [
       "(array([[ 0.        , 41.34005322, 42.22558466]]),\n",
       " array([[161, 550, 247]], dtype=int64))"
      ]
     },
     "execution_count": 89,
     "metadata": {},
     "output_type": "execute_result"
    }
   ],
   "source": [
    "#Premier test pour vérifier si tout est bien réglé et pour vérifier le premier résultat. \n",
    "neighbors = distanceKNN.kneighbors([[106,110,90,154,90,130,1]])\n",
    "neighbors"
   ]
  },
  {
   "cell_type": "code",
   "execution_count": 131,
   "id": "e3af689f-db1e-4830-b064-9b9d0d48a54b",
   "metadata": {},
   "outputs": [
    {
     "data": {
      "text/plain": [
       "#                   162\n",
       "Name          Dragonite\n",
       "Type 1           Dragon\n",
       "Type 2           Flying\n",
       "HP                   91\n",
       "Attack              134\n",
       "Defense              95\n",
       "Sp. Atk             100\n",
       "Sp. Def             100\n",
       "Speed                80\n",
       "Generation            1\n",
       "Legendary         False\n",
       "Name: 161, dtype: object"
      ]
     },
     "execution_count": 131,
     "metadata": {},
     "output_type": "execute_result"
    }
   ],
   "source": [
    "#Je cherche le Pokemo le plus proche de celui qui a été pris comme référence. \n",
    "df_pokemon.loc[neighbors[1][0][0]]"
   ]
  },
  {
   "cell_type": "markdown",
   "id": "9f1ab42d-8509-459a-8a5b-b87d6a066f1f",
   "metadata": {},
   "source": [
    "#### Premier jet pour la recommandation des pokémos à utiliser qui ne sont pas légendaires. "
   ]
  },
  {
   "cell_type": "code",
   "execution_count": 139,
   "id": "84087d5d-5768-4bf4-b515-fd10957926cd",
   "metadata": {},
   "outputs": [
    {
     "name": "stdout",
     "output_type": "stream",
     "text": [
      "          Name  Legendary\n",
      "161  Dragonite      False\n",
      "247   Houndoom      False\n",
      "274   Sceptile      False\n"
     ]
    }
   ],
   "source": [
    "neighbors3 = distanceKNN.kneighbors(df_pokemon.loc[df_pokemon['Name'] == \"Mewtwo\",['HP','Attack','Defense','Sp. Atk','Sp. Def','Speed','Generation']])\n",
    "pokemon_recommandes  = df_pokemon.loc[neighbors3[1][0]][['Name','Legendary']][:5]\n",
    "\n",
    "mask = pokemon_recommandes['Legendary']==False\n",
    "print(pokemon_recommandes[mask])\n"
   ]
  },
  {
   "cell_type": "code",
   "execution_count": 141,
   "id": "6d72fa49-060c-40a0-b14a-bcc991f32e88",
   "metadata": {},
   "outputs": [
    {
     "name": "stdout",
     "output_type": "stream",
     "text": [
      "\n",
      "Instead of Mewtwo, you can use: \n",
      "..................................\n",
      "             Name  Legendary\n",
      "161     Dragonite      False\n",
      "247      Houndoom      False\n",
      "274      Sceptile      False\n",
      "23   Mega Pidgeot      False\n",
      "548       Manaphy      False\n",
      "695      Zweilous      False\n",
      "\n",
      "Instead of Lugia, you can use: \n",
      "..................................\n",
      "               Name  Legendary\n",
      "268  Mega Tyranitar      False\n",
      "536       Mow Rotom      False\n",
      "155         Snorlax      False\n",
      "3     Mega Venusaur      False\n",
      "\n",
      "Instead of Rayquaza, you can use: \n",
      "..................................\n",
      "         Name  Legendary\n",
      "791   Noivern      False\n",
      "278  Blaziken      False\n",
      "\n",
      "Instead of Giratina Altered Forme, you can use: \n",
      "..................................\n",
      "       Name  Legendary\n",
      "547  Phione      False\n",
      "\n",
      "Instead of Giratina Origin Forme, you can use: \n",
      "..................................\n",
      "        Name  Legendary\n",
      "791  Noivern      False\n",
      "\n",
      "Instead of Dialga, you can use: \n",
      "..................................\n",
      "                 Name  Legendary\n",
      "12     Mega Blastoise      False\n",
      "7    Mega Charizard X      False\n",
      "791           Noivern      False\n",
      "\n",
      "Instead of Palkia, you can use: \n",
      "..................................\n",
      "                         Name  Legendary\n",
      "8            Mega Charizard Y      False\n",
      "12             Mega Blastoise      False\n",
      "695                  Zweilous      False\n",
      "716  Meloetta Pirouette Forme      False\n",
      "7            Mega Charizard X      False\n"
     ]
    }
   ],
   "source": [
    "#Loop, pour recommander le pokémon non-légendaire le plus proche. \n",
    "lista= [ \"Mewtwo\", \"Lugia\", \"Rayquaza\", \"Giratina Altered Forme\",\"Giratina Origin Forme\",\"Dialga\", \"Palkia\"]\n",
    "\n",
    "for i in lista:\n",
    "    neighbors3 = distanceKNN.kneighbors(df_pokemon.loc[df_pokemon['Name'] == i,['HP','Attack','Defense','Sp. Atk','Sp. Def','Speed','Generation']])\n",
    "    pokemon_recommandes = df_pokemon.loc[neighbors3[1][0]][['Name','Legendary']][:10]\n",
    "    mask = pokemon_recommandes['Legendary']==False\n",
    "    \n",
    "    print(\"\")\n",
    "    print(\"Instead of {}, you can use: \".format(i))\n",
    "    print('..................................')\n",
    "    print(pokemon_recommandes[mask])\n",
    "    "
   ]
  },
  {
   "cell_type": "code",
   "execution_count": null,
   "id": "bdae631e-1893-4710-8df8-35997cc76f98",
   "metadata": {},
   "outputs": [],
   "source": []
  }
 ],
 "metadata": {
  "kernelspec": {
   "display_name": "Python 3",
   "language": "python",
   "name": "python3"
  },
  "language_info": {
   "codemirror_mode": {
    "name": "ipython",
    "version": 3
   },
   "file_extension": ".py",
   "mimetype": "text/x-python",
   "name": "python",
   "nbconvert_exporter": "python",
   "pygments_lexer": "ipython3",
   "version": "3.8.8"
  }
 },
 "nbformat": 4,
 "nbformat_minor": 5
}
